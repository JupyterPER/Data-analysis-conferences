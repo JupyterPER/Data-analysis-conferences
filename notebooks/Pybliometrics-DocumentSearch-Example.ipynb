{
 "cells": [
  {
   "cell_type": "markdown",
   "id": "f563bf58-a815-464e-b071-bd635aeeea62",
   "metadata": {
    "execution": {
     "iopub.execute_input": "2022-07-03T21:44:27.076484Z",
     "iopub.status.busy": "2022-07-03T21:44:27.076484Z",
     "iopub.status.idle": "2022-07-03T21:44:27.098425Z",
     "shell.execute_reply": "2022-07-03T21:44:27.097462Z",
     "shell.execute_reply.started": "2022-07-03T21:44:27.076484Z"
    }
   },
   "source": [
    "**Authors:** <font color=brown>Jozef Hanč & his students</font>  <br>\n",
    "[Faculty of Science](https://www.upjs.sk/en/faculty-of-science/?prefferedLang=EN) *P.J. Šafárik University in Košice, Slovakia* <br> \n",
    "email: [jozef.hanc@upjs.sk](mailto:jozef.hanc@upjs.sk)  \n",
    "**Document:** Data analysis for AIP conference proceedings  \n",
    "**Date**: July 2022\n",
    "***"
   ]
  },
  {
   "cell_type": "markdown",
   "id": "37238dff",
   "metadata": {
    "tags": []
   },
   "source": [
    "# Scopus <font color =brown> document search </font> <br> via library `pybliometrics`\n",
    "\n",
    "https://pypi.org/project/pybliometrics/\n",
    "\n",
    "* Rose, Michael E. and John R. Kitchin: [pybliometrics: Scriptable bibliometrics using a Python interface to Scopus](https://github.com/pybliometrics-dev/pybliometrics/blob/master/meta/1-s2.0-S2352711019300573-main.pdf), SoftwareX 10 (2019) 100263."
   ]
  },
  {
   "cell_type": "markdown",
   "id": "192bfefa-7ef8-4c2c-bb58-fcdbc9f0f8ef",
   "metadata": {},
   "source": [
    "## Python functions for Scopus"
   ]
  },
  {
   "cell_type": "code",
   "execution_count": 1,
   "id": "7479ee2d-cdd5-49df-909a-0fb4b4163498",
   "metadata": {
    "ExecuteTime": {
     "end_time": "2022-07-03T09:21:57.820304Z",
     "start_time": "2022-07-03T09:21:57.801259Z"
    },
    "execution": {
     "iopub.execute_input": "2022-07-08T13:26:27.716216Z",
     "iopub.status.busy": "2022-07-08T13:26:27.715236Z",
     "iopub.status.idle": "2022-07-08T13:26:27.766675Z",
     "shell.execute_reply": "2022-07-08T13:26:27.766675Z",
     "shell.execute_reply.started": "2022-07-08T13:26:27.716216Z"
    },
    "tags": []
   },
   "outputs": [],
   "source": [
    "# Python functions using Pybliometrics\n",
    "from PybliometricsScopus import *"
   ]
  },
  {
   "cell_type": "markdown",
   "id": "5f447893",
   "metadata": {},
   "source": [
    "## Example"
   ]
  },
  {
   "cell_type": "code",
   "execution_count": 2,
   "id": "ee25ebd5-2b0f-4697-bc36-a5916ba5af1f",
   "metadata": {
    "execution": {
     "iopub.execute_input": "2022-07-08T13:26:27.768525Z",
     "iopub.status.busy": "2022-07-08T13:26:27.768525Z",
     "iopub.status.idle": "2022-07-08T13:26:27.781464Z",
     "shell.execute_reply": "2022-07-08T13:26:27.781464Z",
     "shell.execute_reply.started": "2022-07-08T13:26:27.768525Z"
    }
   },
   "outputs": [],
   "source": [
    "# parameters of paper\n",
    "# title = 'Synthesis and characterization of zinc-thiocyanato and chromium(III)-quinoline complex as K-ion battery material'\n",
    "# authorlastname = 'Golhen'"
   ]
  },
  {
   "cell_type": "code",
   "execution_count": 3,
   "id": "6d69a91a",
   "metadata": {
    "ExecuteTime": {
     "end_time": "2022-07-03T21:13:21.786358Z",
     "start_time": "2022-07-03T21:13:21.750370Z"
    },
    "execution": {
     "iopub.execute_input": "2022-07-08T13:26:27.782461Z",
     "iopub.status.busy": "2022-07-08T13:26:27.782461Z",
     "iopub.status.idle": "2022-07-08T13:26:27.797423Z",
     "shell.execute_reply": "2022-07-08T13:26:27.797423Z",
     "shell.execute_reply.started": "2022-07-08T13:26:27.782461Z"
    },
    "tags": []
   },
   "outputs": [
    {
     "data": {
      "text/plain": [
       "'TITLE(\"Synthesis and characterization of zinc-thiocyanato and chromium(III)-quinoline complex as K-ion battery material\") AND AUTHLASTNAME(golhen)'"
      ]
     },
     "execution_count": 3,
     "metadata": {},
     "output_type": "execute_result"
    }
   ],
   "source": [
    "ScopusDocQuery(title, authorlastname)"
   ]
  },
  {
   "cell_type": "code",
   "execution_count": 4,
   "id": "f8d7df1a-bfb4-4aa6-97e9-60a9711d73c1",
   "metadata": {
    "execution": {
     "iopub.execute_input": "2022-07-08T13:26:27.798421Z",
     "iopub.status.busy": "2022-07-08T13:26:27.798421Z",
     "iopub.status.idle": "2022-07-08T13:26:27.813381Z",
     "shell.execute_reply": "2022-07-08T13:26:27.813381Z",
     "shell.execute_reply.started": "2022-07-08T13:26:27.798421Z"
    },
    "tags": []
   },
   "outputs": [
    {
     "data": {
      "text/plain": [
       "1"
      ]
     },
     "execution_count": 4,
     "metadata": {},
     "output_type": "execute_result"
    }
   ],
   "source": [
    "s = ScopusSearch(ScopusDocQuery(title, authorlastname))\n",
    "len(s.results)  # number of results"
   ]
  },
  {
   "cell_type": "code",
   "execution_count": 5,
   "id": "acb7e3ee-3782-4dc4-83dc-8b3779612a4e",
   "metadata": {
    "execution": {
     "iopub.execute_input": "2022-07-08T13:26:27.815375Z",
     "iopub.status.busy": "2022-07-08T13:26:27.814378Z",
     "iopub.status.idle": "2022-07-08T13:26:27.845327Z",
     "shell.execute_reply": "2022-07-08T13:26:27.845327Z",
     "shell.execute_reply.started": "2022-07-08T13:26:27.815375Z"
    },
    "tags": []
   },
   "outputs": [
    {
     "data": {
      "text/html": [
       "<div>\n",
       "<style scoped>\n",
       "    .dataframe tbody tr th:only-of-type {\n",
       "        vertical-align: middle;\n",
       "    }\n",
       "\n",
       "    .dataframe tbody tr th {\n",
       "        vertical-align: top;\n",
       "    }\n",
       "\n",
       "    .dataframe thead th {\n",
       "        text-align: right;\n",
       "    }\n",
       "</style>\n",
       "<table border=\"1\" class=\"dataframe\">\n",
       "  <thead>\n",
       "    <tr style=\"text-align: right;\">\n",
       "      <th>attribute</th>\n",
       "      <th>affiliation_city</th>\n",
       "      <th>affiliation_country</th>\n",
       "      <th>affilname</th>\n",
       "      <th>afid</th>\n",
       "      <th>aggregationType</th>\n",
       "      <th>article_number</th>\n",
       "      <th>authkeywords</th>\n",
       "      <th>author_afids</th>\n",
       "      <th>author_count</th>\n",
       "      <th>author_ids</th>\n",
       "      <th>author_names</th>\n",
       "      <th>citedby_count</th>\n",
       "      <th>coverDate</th>\n",
       "      <th>coverDisplayDate</th>\n",
       "      <th>creator</th>\n",
       "      <th>description</th>\n",
       "      <th>doi</th>\n",
       "      <th>eIssn</th>\n",
       "      <th>eid</th>\n",
       "      <th>freetoread</th>\n",
       "      <th>freetoreadLabel</th>\n",
       "      <th>fund_acr</th>\n",
       "      <th>fund_no</th>\n",
       "      <th>fund_sponsor</th>\n",
       "      <th>issn</th>\n",
       "      <th>issueIdentifier</th>\n",
       "      <th>openaccess</th>\n",
       "      <th>pageRange</th>\n",
       "      <th>pii</th>\n",
       "      <th>publicationName</th>\n",
       "      <th>pubmed_id</th>\n",
       "      <th>source_id</th>\n",
       "      <th>subtype</th>\n",
       "      <th>subtypeDescription</th>\n",
       "      <th>title</th>\n",
       "      <th>volume</th>\n",
       "    </tr>\n",
       "  </thead>\n",
       "  <tbody>\n",
       "    <tr>\n",
       "      <th>value</th>\n",
       "      <td>Malang;Rennes</td>\n",
       "      <td>Indonesia;France</td>\n",
       "      <td>Universitas Negeri Malang;Universite de Rennes 1</td>\n",
       "      <td>60104775;60030553</td>\n",
       "      <td>Conference Proceeding</td>\n",
       "      <td>30004</td>\n",
       "      <td>None</td>\n",
       "      <td>60104775;60104775;60104775;60104775;60030553;6...</td>\n",
       "      <td>6</td>\n",
       "      <td>57219990854;7409773139;56823445800;57208734693...</td>\n",
       "      <td>Azhar, Zaharul;Fariati, ;Wijaya, Husni Wahyu;J...</td>\n",
       "      <td>0</td>\n",
       "      <td>2020-04-21</td>\n",
       "      <td>21 April 2020</td>\n",
       "      <td>Azhar Z.</td>\n",
       "      <td>Potassium ion-based batteries have potential a...</td>\n",
       "      <td>10.1063/5.0000886</td>\n",
       "      <td>15517616</td>\n",
       "      <td>2-s2.0-85096429192</td>\n",
       "      <td>None</td>\n",
       "      <td>None</td>\n",
       "      <td>UM</td>\n",
       "      <td>20.3.142/UN32.14.1/LT/2019</td>\n",
       "      <td>Universitas Negeri Malang</td>\n",
       "      <td>0094243X</td>\n",
       "      <td>None</td>\n",
       "      <td>0</td>\n",
       "      <td>None</td>\n",
       "      <td>None</td>\n",
       "      <td>AIP Conference Proceedings</td>\n",
       "      <td>None</td>\n",
       "      <td>26916</td>\n",
       "      <td>cp</td>\n",
       "      <td>Conference Paper</td>\n",
       "      <td>Synthesis and characterization of Zinc-thiocya...</td>\n",
       "      <td>2228</td>\n",
       "    </tr>\n",
       "  </tbody>\n",
       "</table>\n",
       "</div>"
      ],
      "text/plain": [
       "attribute affiliation_city affiliation_country  \\\n",
       "value        Malang;Rennes    Indonesia;France   \n",
       "\n",
       "attribute                                         affilname  \\\n",
       "value      Universitas Negeri Malang;Universite de Rennes 1   \n",
       "\n",
       "attribute               afid        aggregationType article_number  \\\n",
       "value      60104775;60030553  Conference Proceeding          30004   \n",
       "\n",
       "attribute authkeywords                                       author_afids  \\\n",
       "value             None  60104775;60104775;60104775;60104775;60030553;6...   \n",
       "\n",
       "attribute author_count                                         author_ids  \\\n",
       "value                6  57219990854;7409773139;56823445800;57208734693...   \n",
       "\n",
       "attribute                                       author_names citedby_count  \\\n",
       "value      Azhar, Zaharul;Fariati, ;Wijaya, Husni Wahyu;J...             0   \n",
       "\n",
       "attribute   coverDate coverDisplayDate   creator  \\\n",
       "value      2020-04-21    21 April 2020  Azhar Z.   \n",
       "\n",
       "attribute                                        description  \\\n",
       "value      Potassium ion-based batteries have potential a...   \n",
       "\n",
       "attribute                doi     eIssn                 eid freetoread  \\\n",
       "value      10.1063/5.0000886  15517616  2-s2.0-85096429192       None   \n",
       "\n",
       "attribute freetoreadLabel fund_acr                     fund_no  \\\n",
       "value                None       UM  20.3.142/UN32.14.1/LT/2019   \n",
       "\n",
       "attribute               fund_sponsor      issn issueIdentifier openaccess  \\\n",
       "value      Universitas Negeri Malang  0094243X            None          0   \n",
       "\n",
       "attribute pageRange   pii             publicationName pubmed_id source_id  \\\n",
       "value          None  None  AIP Conference Proceedings      None     26916   \n",
       "\n",
       "attribute subtype subtypeDescription  \\\n",
       "value          cp   Conference Paper   \n",
       "\n",
       "attribute                                              title volume  \n",
       "value      Synthesis and characterization of Zinc-thiocya...   2228  "
      ]
     },
     "metadata": {},
     "output_type": "display_data"
    }
   ],
   "source": [
    "doc = s.results[0]\n",
    "show_allrowscols(dattr(doc, attrs = 'parameters').T)"
   ]
  },
  {
   "cell_type": "code",
   "execution_count": 6,
   "id": "600020f1",
   "metadata": {
    "ExecuteTime": {
     "end_time": "2022-07-03T21:13:21.862926Z",
     "start_time": "2022-07-03T21:13:21.847232Z"
    },
    "execution": {
     "iopub.execute_input": "2022-07-08T13:26:27.847292Z",
     "iopub.status.busy": "2022-07-08T13:26:27.846326Z",
     "iopub.status.idle": "2022-07-08T13:26:27.861255Z",
     "shell.execute_reply": "2022-07-08T13:26:27.861255Z",
     "shell.execute_reply.started": "2022-07-08T13:26:27.847292Z"
    },
    "tags": []
   },
   "outputs": [
    {
     "data": {
      "text/plain": [
       "'Azhar, Zaharul;Fariati, ;Wijaya, Husni Wahyu;Jayanti, Wiwin Dwi;Golhen, Stephane;Wayan Dasna, I.'"
      ]
     },
     "execution_count": 6,
     "metadata": {},
     "output_type": "execute_result"
    }
   ],
   "source": [
    "doc.author_names"
   ]
  },
  {
   "cell_type": "code",
   "execution_count": 7,
   "id": "39b98ccf",
   "metadata": {
    "ExecuteTime": {
     "end_time": "2022-07-03T21:13:21.880225Z",
     "start_time": "2022-07-03T21:13:21.866988Z"
    },
    "execution": {
     "iopub.execute_input": "2022-07-08T13:26:27.864246Z",
     "iopub.status.busy": "2022-07-08T13:26:27.863249Z",
     "iopub.status.idle": "2022-07-08T13:26:27.877212Z",
     "shell.execute_reply": "2022-07-08T13:26:27.877212Z",
     "shell.execute_reply.started": "2022-07-08T13:26:27.863249Z"
    },
    "tags": []
   },
   "outputs": [
    {
     "data": {
      "text/plain": [
       "'57219990854;7409773139;56823445800;57208734693;7003533197;6506468749'"
      ]
     },
     "execution_count": 7,
     "metadata": {},
     "output_type": "execute_result"
    }
   ],
   "source": [
    "doc.author_ids"
   ]
  },
  {
   "cell_type": "code",
   "execution_count": 8,
   "id": "f2381dec-85bf-41f9-9e41-030f59df04c6",
   "metadata": {
    "execution": {
     "iopub.execute_input": "2022-07-08T13:26:27.879208Z",
     "iopub.status.busy": "2022-07-08T13:26:27.878209Z",
     "iopub.status.idle": "2022-07-08T13:26:27.894169Z",
     "shell.execute_reply": "2022-07-08T13:26:27.893173Z",
     "shell.execute_reply.started": "2022-07-08T13:26:27.879208Z"
    },
    "tags": []
   },
   "outputs": [
    {
     "data": {
      "text/plain": [
       "'Potassium ion-based batteries have potential as cathode for replacement lithium-ion battery. Prussian Blue-Like (PBL) compounds are one of a candidate for potassium ion battery. In this study, we synthesized the PBL compound using zinc chloride, quinoline, chromium(III) chloride, and potassium thiocyanate with a mole ratio of 1:2:1:6 and as well as the characterization of the complex compound as material for Potassium Ion Battery (PIB). As-synthesized compound was formed dark-greenish purple crystals, which melt at 182-185 °C. The UV-Vis characterization indicates the presence of Cr3+ ion. The as-synthesized structure formula, K[Cr(C9H7N)2(SCN)2][Zn(SCN)4], was indicated by using XRD and SEM-EDX analysis. The presenting of quinoline and thiocyanate as ligands were identified from the as-synthesized FT-IR spectra. Its reduction potential showed the potential properties as battery material up to 0.45 V.'"
      ]
     },
     "execution_count": 8,
     "metadata": {},
     "output_type": "execute_result"
    }
   ],
   "source": [
    "doc.description"
   ]
  },
  {
   "cell_type": "code",
   "execution_count": 9,
   "id": "8b22903a-ed06-4195-9fb8-2bb90e6f05be",
   "metadata": {
    "ExecuteTime": {
     "end_time": "2022-07-03T21:13:21.971761Z",
     "start_time": "2022-07-03T21:13:21.895985Z"
    },
    "execution": {
     "iopub.execute_input": "2022-07-08T13:26:27.895167Z",
     "iopub.status.busy": "2022-07-08T13:26:27.895167Z",
     "iopub.status.idle": "2022-07-08T13:26:27.924758Z",
     "shell.execute_reply": "2022-07-08T13:26:27.924758Z",
     "shell.execute_reply.started": "2022-07-08T13:26:27.895167Z"
    },
    "scrolled": true,
    "tags": []
   },
   "outputs": [
    {
     "data": {
      "text/html": [
       "<div>\n",
       "<style scoped>\n",
       "    .dataframe tbody tr th:only-of-type {\n",
       "        vertical-align: middle;\n",
       "    }\n",
       "\n",
       "    .dataframe tbody tr th {\n",
       "        vertical-align: top;\n",
       "    }\n",
       "\n",
       "    .dataframe thead th {\n",
       "        text-align: right;\n",
       "    }\n",
       "</style>\n",
       "<table border=\"1\" class=\"dataframe\">\n",
       "  <thead>\n",
       "    <tr style=\"text-align: right;\">\n",
       "      <th>attribute</th>\n",
       "      <th>affiliation_current</th>\n",
       "      <th>affiliation_history</th>\n",
       "      <th>alias</th>\n",
       "      <th>citation_count</th>\n",
       "      <th>cited_by_count</th>\n",
       "      <th>classificationgroup</th>\n",
       "      <th>coauthor_count</th>\n",
       "      <th>coauthor_link</th>\n",
       "      <th>date_created</th>\n",
       "      <th>document_count</th>\n",
       "      <th>...</th>\n",
       "      <th>name_variants</th>\n",
       "      <th>orcid</th>\n",
       "      <th>publication_range</th>\n",
       "      <th>scopus_author_link</th>\n",
       "      <th>search_link</th>\n",
       "      <th>self_link</th>\n",
       "      <th>status</th>\n",
       "      <th>subject_areas</th>\n",
       "      <th>surname</th>\n",
       "      <th>url</th>\n",
       "    </tr>\n",
       "  </thead>\n",
       "  <tbody>\n",
       "    <tr>\n",
       "      <th>value</th>\n",
       "      <td>[(114670137, 60104775, dept, author, None, Dep...</td>\n",
       "      <td>[(114670137, 60104775, dept, author, None, Dep...</td>\n",
       "      <td>None</td>\n",
       "      <td>0</td>\n",
       "      <td>0</td>\n",
       "      <td>[(3100, 1)]</td>\n",
       "      <td>5</td>\n",
       "      <td>http://api.elsevier.com/content/search/author?...</td>\n",
       "      <td>(2020, 11, 26)</td>\n",
       "      <td>1</td>\n",
       "      <td>...</td>\n",
       "      <td>None</td>\n",
       "      <td>None</td>\n",
       "      <td>(2020, 2020)</td>\n",
       "      <td>http://api.elsevier.com/content/author/author_...</td>\n",
       "      <td>http://api.elsevier.com/content/search/scopus?...</td>\n",
       "      <td>https://www.scopus.com/authid/detail.uri?partn...</td>\n",
       "      <td>new</td>\n",
       "      <td>[(Physics and Astronomy (all), PHYS, 3100)]</td>\n",
       "      <td>Azhar</td>\n",
       "      <td>http://api.elsevier.com/content/author/author_...</td>\n",
       "    </tr>\n",
       "  </tbody>\n",
       "</table>\n",
       "<p>1 rows × 27 columns</p>\n",
       "</div>"
      ],
      "text/plain": [
       "attribute                                affiliation_current  \\\n",
       "value      [(114670137, 60104775, dept, author, None, Dep...   \n",
       "\n",
       "attribute                                affiliation_history alias  \\\n",
       "value      [(114670137, 60104775, dept, author, None, Dep...  None   \n",
       "\n",
       "attribute citation_count cited_by_count classificationgroup coauthor_count  \\\n",
       "value                  0              0         [(3100, 1)]              5   \n",
       "\n",
       "attribute                                      coauthor_link    date_created  \\\n",
       "value      http://api.elsevier.com/content/search/author?...  (2020, 11, 26)   \n",
       "\n",
       "attribute document_count  ... name_variants orcid publication_range  \\\n",
       "value                  1  ...          None  None      (2020, 2020)   \n",
       "\n",
       "attribute                                 scopus_author_link  \\\n",
       "value      http://api.elsevier.com/content/author/author_...   \n",
       "\n",
       "attribute                                        search_link  \\\n",
       "value      http://api.elsevier.com/content/search/scopus?...   \n",
       "\n",
       "attribute                                          self_link status  \\\n",
       "value      https://www.scopus.com/authid/detail.uri?partn...    new   \n",
       "\n",
       "attribute                                subject_areas surname  \\\n",
       "value      [(Physics and Astronomy (all), PHYS, 3100)]   Azhar   \n",
       "\n",
       "attribute                                                url  \n",
       "value      http://api.elsevier.com/content/author/author_...  \n",
       "\n",
       "[1 rows x 27 columns]"
      ]
     },
     "execution_count": 9,
     "metadata": {},
     "output_type": "execute_result"
    }
   ],
   "source": [
    "author = AuthorRetrieval(int(doc.author_ids.split(';')[0]))\n",
    "dattr(author,'parameters').T"
   ]
  },
  {
   "cell_type": "code",
   "execution_count": 10,
   "id": "257dc038",
   "metadata": {
    "ExecuteTime": {
     "end_time": "2022-07-03T21:13:22.020428Z",
     "start_time": "2022-07-03T21:13:21.996992Z"
    },
    "execution": {
     "iopub.execute_input": "2022-07-08T13:26:27.925756Z",
     "iopub.status.busy": "2022-07-08T13:26:27.925756Z",
     "iopub.status.idle": "2022-07-08T13:26:27.940741Z",
     "shell.execute_reply": "2022-07-08T13:26:27.940741Z",
     "shell.execute_reply.started": "2022-07-08T13:26:27.925756Z"
    },
    "tags": []
   },
   "outputs": [
    {
     "data": {
      "text/html": [
       "<div>\n",
       "<style scoped>\n",
       "    .dataframe tbody tr th:only-of-type {\n",
       "        vertical-align: middle;\n",
       "    }\n",
       "\n",
       "    .dataframe tbody tr th {\n",
       "        vertical-align: top;\n",
       "    }\n",
       "\n",
       "    .dataframe thead th {\n",
       "        text-align: right;\n",
       "    }\n",
       "</style>\n",
       "<table border=\"1\" class=\"dataframe\">\n",
       "  <thead>\n",
       "    <tr style=\"text-align: right;\">\n",
       "      <th></th>\n",
       "      <th>scopus</th>\n",
       "    </tr>\n",
       "  </thead>\n",
       "  <tbody>\n",
       "    <tr>\n",
       "      <th>scopus-id</th>\n",
       "      <td>57219990854</td>\n",
       "    </tr>\n",
       "    <tr>\n",
       "      <th>first name</th>\n",
       "      <td>Zaharul</td>\n",
       "    </tr>\n",
       "    <tr>\n",
       "      <th>last name</th>\n",
       "      <td>Azhar</td>\n",
       "    </tr>\n",
       "    <tr>\n",
       "      <th>full name</th>\n",
       "      <td>Zaharul Azhar</td>\n",
       "    </tr>\n",
       "    <tr>\n",
       "      <th>documents</th>\n",
       "      <td>1</td>\n",
       "    </tr>\n",
       "    <tr>\n",
       "      <th>citations</th>\n",
       "      <td>0</td>\n",
       "    </tr>\n",
       "    <tr>\n",
       "      <th>h-index</th>\n",
       "      <td>0</td>\n",
       "    </tr>\n",
       "  </tbody>\n",
       "</table>\n",
       "</div>"
      ],
      "text/plain": [
       "                   scopus\n",
       "scopus-id     57219990854\n",
       "first name        Zaharul\n",
       "last name           Azhar\n",
       "full name   Zaharul Azhar\n",
       "documents               1\n",
       "citations               0\n",
       "h-index                 0"
      ]
     },
     "execution_count": 10,
     "metadata": {},
     "output_type": "execute_result"
    }
   ],
   "source": [
    "DF(ScopusDataShort(author),colname='scopus')"
   ]
  }
 ],
 "metadata": {
  "hide_input": false,
  "kernelspec": {
   "display_name": "Python 3 (ipykernel)",
   "language": "python",
   "name": "python3"
  },
  "language_info": {
   "codemirror_mode": {
    "name": "ipython",
    "version": 3
   },
   "file_extension": ".py",
   "mimetype": "text/x-python",
   "name": "python",
   "nbconvert_exporter": "python",
   "pygments_lexer": "ipython3",
   "version": "3.8.8"
  },
  "toc": {
   "base_numbering": 1,
   "nav_menu": {},
   "number_sections": true,
   "sideBar": true,
   "skip_h1_title": false,
   "title_cell": "Table of Contents",
   "title_sidebar": "Contents",
   "toc_cell": false,
   "toc_position": {
    "height": "calc(100% - 180px)",
    "left": "10px",
    "top": "150px",
    "width": "200.6px"
   },
   "toc_section_display": true,
   "toc_window_display": true
  },
  "varInspector": {
   "cols": {
    "lenName": 16,
    "lenType": 16,
    "lenVar": 40
   },
   "kernels_config": {
    "python": {
     "delete_cmd_postfix": "",
     "delete_cmd_prefix": "del ",
     "library": "var_list.py",
     "varRefreshCmd": "print(var_dic_list())"
    },
    "r": {
     "delete_cmd_postfix": ") ",
     "delete_cmd_prefix": "rm(",
     "library": "var_list.r",
     "varRefreshCmd": "cat(var_dic_list()) "
    }
   },
   "types_to_exclude": [
    "module",
    "function",
    "builtin_function_or_method",
    "instance",
    "_Feature"
   ],
   "window_display": false
  },
  "widgets": {
   "application/vnd.jupyter.widget-state+json": {
    "state": {},
    "version_major": 2,
    "version_minor": 0
   }
  }
 },
 "nbformat": 4,
 "nbformat_minor": 5
}
