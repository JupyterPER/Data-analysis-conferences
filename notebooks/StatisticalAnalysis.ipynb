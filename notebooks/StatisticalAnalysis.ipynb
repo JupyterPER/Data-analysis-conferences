{
 "cells": [
  {
   "cell_type": "markdown",
   "id": "0ecef87a-3859-400c-b75b-5d9a2dae37ce",
   "metadata": {
    "execution": {
     "iopub.execute_input": "2022-07-03T21:44:27.076484Z",
     "iopub.status.busy": "2022-07-03T21:44:27.076484Z",
     "iopub.status.idle": "2022-07-03T21:44:27.098425Z",
     "shell.execute_reply": "2022-07-03T21:44:27.097462Z",
     "shell.execute_reply.started": "2022-07-03T21:44:27.076484Z"
    }
   },
   "source": [
    "**Authors:** <font color=brown>Jozef Hanč & his students</font>  <br>\n",
    "[Faculty of Science](https://www.upjs.sk/en/faculty-of-science/?prefferedLang=EN) *P.J. Šafárik University in Košice, Slovakia* <br> \n",
    "email: [jozef.hanc@upjs.sk](mailto:jozef.hanc@upjs.sk)  \n",
    "**Document:** Data analysis for AIP publishing house  \n",
    "**Date**: July 2022"
   ]
  },
  {
   "cell_type": "markdown",
   "id": "68b8ed3a",
   "metadata": {},
   "source": [
    "# Statistical analysis of AIP conference"
   ]
  },
  {
   "cell_type": "markdown",
   "id": "9df996fd",
   "metadata": {},
   "source": [
    "## Parameters"
   ]
  },
  {
   "cell_type": "code",
   "execution_count": 1,
   "id": "9ce0d679",
   "metadata": {
    "ExecuteTime": {
     "end_time": "2022-07-02T20:51:17.046743Z",
     "start_time": "2022-07-02T20:51:16.883947Z"
    },
    "execution": {
     "iopub.execute_input": "2022-07-08T20:36:44.346984Z",
     "iopub.status.busy": "2022-07-08T20:36:44.346984Z",
     "iopub.status.idle": "2022-07-08T20:36:44.437738Z",
     "shell.execute_reply": "2022-07-08T20:36:44.436741Z",
     "shell.execute_reply.started": "2022-07-08T20:36:44.346984Z"
    },
    "tags": []
   },
   "outputs": [],
   "source": [
    "# conference = 'ISET2018'\n",
    "# pubdate = 'March 2019'\n",
    "# invited = 3\n",
    "# access = 'No Access'\n",
    "\n",
    "# ds = pd.read_excel('../'+conference+'-scopus.xlsx', sheet_name='h-index', index_col=0)\n",
    "# dk = pd.read_excel('../'+conference+'-scopus.xlsx', sheet_name='contributions', index_col=0)"
   ]
  },
  {
   "cell_type": "markdown",
   "id": "bb3544ff",
   "metadata": {},
   "source": [
    "## Analysis of topics"
   ]
  },
  {
   "cell_type": "markdown",
   "id": "eea23da5-5d08-4123-b23e-31c2d6ba8f41",
   "metadata": {},
   "source": [
    "### numerical"
   ]
  },
  {
   "cell_type": "code",
   "execution_count": 2,
   "id": "8f6a6455-c275-44b1-b505-42199710a2a9",
   "metadata": {
    "execution": {
     "iopub.execute_input": "2022-07-08T20:36:44.439733Z",
     "iopub.status.busy": "2022-07-08T20:36:44.438735Z",
     "iopub.status.idle": "2022-07-08T20:36:44.468655Z",
     "shell.execute_reply": "2022-07-08T20:36:44.468655Z",
     "shell.execute_reply.started": "2022-07-08T20:36:44.439733Z"
    },
    "tags": []
   },
   "outputs": [
    {
     "name": "stdout",
     "output_type": "stream",
     "text": [
      "\n"
     ]
    },
    {
     "data": {
      "text/markdown": [
       "**<font color=brown size=4>Numerical summary ISET2018 -   educational topic and science subject of contributions**"
      ],
      "text/plain": [
       "<IPython.core.display.Markdown object>"
      ]
     },
     "metadata": {},
     "output_type": "display_data"
    },
    {
     "data": {
      "text/html": [
       "<div>\n",
       "<style scoped>\n",
       "    .dataframe tbody tr th:only-of-type {\n",
       "        vertical-align: middle;\n",
       "    }\n",
       "\n",
       "    .dataframe tbody tr th {\n",
       "        vertical-align: top;\n",
       "    }\n",
       "\n",
       "    .dataframe thead th {\n",
       "        text-align: right;\n",
       "    }\n",
       "</style>\n",
       "<table border=\"1\" class=\"dataframe\">\n",
       "  <thead>\n",
       "    <tr style=\"text-align: right;\">\n",
       "      <th>topic</th>\n",
       "      <th>assessment</th>\n",
       "      <th>digital technology</th>\n",
       "      <th>informal education</th>\n",
       "      <th>innovative curriculum</th>\n",
       "      <th>inquiry skills, literacy</th>\n",
       "      <th>labs, experiments</th>\n",
       "      <th>other</th>\n",
       "      <th>problem solving</th>\n",
       "      <th>teacher's training</th>\n",
       "    </tr>\n",
       "  </thead>\n",
       "  <tbody>\n",
       "    <tr>\n",
       "      <th>count</th>\n",
       "      <td>1</td>\n",
       "      <td>1</td>\n",
       "      <td>2</td>\n",
       "      <td>1</td>\n",
       "      <td>8</td>\n",
       "      <td>3</td>\n",
       "      <td>7</td>\n",
       "      <td>3</td>\n",
       "      <td>9</td>\n",
       "    </tr>\n",
       "  </tbody>\n",
       "</table>\n",
       "</div>"
      ],
      "text/plain": [
       "topic  assessment  digital technology  informal education  \\\n",
       "count           1                   1                   2   \n",
       "\n",
       "topic  innovative curriculum  inquiry skills, literacy  labs, experiments  \\\n",
       "count                      1                         8                  3   \n",
       "\n",
       "topic  other  problem solving  teacher's training  \n",
       "count      7                3                   9  "
      ]
     },
     "metadata": {},
     "output_type": "display_data"
    }
   ],
   "source": [
    "if 'topic' in dk.columns:\n",
    "    dtop = dk.groupby(['topic']).count()[['title']].rename(columns = {'title':'count'})\n",
    "\n",
    "    print()\n",
    "    md(f'**<font color=brown size=4>Numerical summary {conference} -   educational topic and science subject of contributions**')\n",
    "    display(dtop.T)"
   ]
  },
  {
   "cell_type": "code",
   "execution_count": 3,
   "id": "23faa217-7d66-456d-98ff-fff1e63931a3",
   "metadata": {
    "execution": {
     "iopub.execute_input": "2022-07-08T20:36:44.470652Z",
     "iopub.status.busy": "2022-07-08T20:36:44.470652Z",
     "iopub.status.idle": "2022-07-08T20:36:44.485610Z",
     "shell.execute_reply": "2022-07-08T20:36:44.484612Z",
     "shell.execute_reply.started": "2022-07-08T20:36:44.470652Z"
    },
    "tags": []
   },
   "outputs": [
    {
     "name": "stdout",
     "output_type": "stream",
     "text": [
      "\n"
     ]
    },
    {
     "data": {
      "text/html": [
       "<div>\n",
       "<style scoped>\n",
       "    .dataframe tbody tr th:only-of-type {\n",
       "        vertical-align: middle;\n",
       "    }\n",
       "\n",
       "    .dataframe tbody tr th {\n",
       "        vertical-align: top;\n",
       "    }\n",
       "\n",
       "    .dataframe thead th {\n",
       "        text-align: right;\n",
       "    }\n",
       "</style>\n",
       "<table border=\"1\" class=\"dataframe\">\n",
       "  <thead>\n",
       "    <tr style=\"text-align: right;\">\n",
       "      <th>subject</th>\n",
       "      <th>biology</th>\n",
       "      <th>biology, science</th>\n",
       "      <th>chemistry</th>\n",
       "      <th>general</th>\n",
       "      <th>physics</th>\n",
       "      <th>physics, science</th>\n",
       "      <th>science</th>\n",
       "      <th>science, arts</th>\n",
       "      <th>stem</th>\n",
       "    </tr>\n",
       "  </thead>\n",
       "  <tbody>\n",
       "    <tr>\n",
       "      <th>count</th>\n",
       "      <td>5</td>\n",
       "      <td>1</td>\n",
       "      <td>3</td>\n",
       "      <td>3</td>\n",
       "      <td>5</td>\n",
       "      <td>1</td>\n",
       "      <td>9</td>\n",
       "      <td>1</td>\n",
       "      <td>7</td>\n",
       "    </tr>\n",
       "  </tbody>\n",
       "</table>\n",
       "</div>"
      ],
      "text/plain": [
       "subject  biology  biology, science  chemistry  general  physics  \\\n",
       "count          5                 1          3        3        5   \n",
       "\n",
       "subject  physics, science  science  science, arts  stem  \n",
       "count                   1        9              1     7  "
      ]
     },
     "metadata": {},
     "output_type": "display_data"
    }
   ],
   "source": [
    "if 'subject' in dk.columns:\n",
    "    dsub = dk.groupby(['subject']).count()[['title']].rename(columns = {'title':'count'})\n",
    "\n",
    "    print()\n",
    "    display(dsub.T)"
   ]
  },
  {
   "cell_type": "markdown",
   "id": "2684f39d-fa14-4000-8138-3454c55670e2",
   "metadata": {},
   "source": [
    "### graphical"
   ]
  },
  {
   "cell_type": "code",
   "execution_count": 4,
   "id": "d5c47558",
   "metadata": {
    "ExecuteTime": {
     "end_time": "2022-07-02T20:51:18.205544Z",
     "start_time": "2022-07-02T20:51:17.381974Z"
    },
    "execution": {
     "iopub.execute_input": "2022-07-08T20:36:44.486607Z",
     "iopub.status.busy": "2022-07-08T20:36:44.486607Z",
     "iopub.status.idle": "2022-07-08T20:36:45.080434Z",
     "shell.execute_reply": "2022-07-08T20:36:45.080434Z",
     "shell.execute_reply.started": "2022-07-08T20:36:44.486607Z"
    },
    "tags": []
   },
   "outputs": [],
   "source": [
    "import seaborn as sns\n",
    "import matplotlib.pyplot as plt"
   ]
  },
  {
   "cell_type": "code",
   "execution_count": 5,
   "id": "9b8ba582-7a69-4bf0-90c3-64c59eca9347",
   "metadata": {
    "execution": {
     "iopub.execute_input": "2022-07-08T20:36:45.081468Z",
     "iopub.status.busy": "2022-07-08T20:36:45.081468Z",
     "iopub.status.idle": "2022-07-08T20:36:45.267909Z",
     "shell.execute_reply": "2022-07-08T20:36:45.266914Z",
     "shell.execute_reply.started": "2022-07-08T20:36:45.081468Z"
    },
    "tags": []
   },
   "outputs": [
    {
     "data": {
      "text/markdown": [
       "**<font color=brown size=4>Graphical summary ISET2018 -  educational topic and science subject of contributions**"
      ],
      "text/plain": [
       "<IPython.core.display.Markdown object>"
      ]
     },
     "metadata": {},
     "output_type": "display_data"
    },
    {
     "data": {
      "image/png": "[encoded data removed]",
      "text/plain": [
       "<Figure size 1152x432 with 1 Axes>"
      ]
     },
     "metadata": {},
     "output_type": "display_data"
    }
   ],
   "source": [
    "if 'topic' in dk.columns:\n",
    "    N = dtop.shape[0]\n",
    "    explode = N*[0.01]\n",
    "    md(f'**<font color=brown size=4>Graphical summary {conference} -  educational topic and science subject of contributions**')\n",
    "    dtop.plot(kind='pie', y = 'count', #subplots=True, \n",
    "        figsize=(16,6), legend=False, autopct='%.0f%%', textprops={'fontsize': 11}, explode=explode,ylabel='');"
   ]
  },
  {
   "cell_type": "code",
   "execution_count": 6,
   "id": "867a7086-0bc2-48e6-b788-54c942c80de2",
   "metadata": {
    "execution": {
     "iopub.execute_input": "2022-07-08T20:36:45.268908Z",
     "iopub.status.busy": "2022-07-08T20:36:45.268908Z",
     "iopub.status.idle": "2022-07-08T20:36:45.407769Z",
     "shell.execute_reply": "2022-07-08T20:36:45.407769Z",
     "shell.execute_reply.started": "2022-07-08T20:36:45.268908Z"
    }
   },
   "outputs": [
    {
     "data": {
      "image/png": "[encoded data removed]",
      "text/plain": [
       "<Figure size 1152x432 with 1 Axes>"
      ]
     },
     "metadata": {},
     "output_type": "display_data"
    }
   ],
   "source": [
    "if 'subject' in dk.columns:\n",
    "    N = dsub.shape[0]\n",
    "    explode = N*[0.01]\n",
    "    dsub.plot(kind='pie', y = 'count', #subplots=True, \n",
    "        figsize=(16,6), legend=False, autopct='%.0f%%', textprops={'fontsize': 11}, explode=explode,ylabel='');"
   ]
  },
  {
   "cell_type": "markdown",
   "id": "0ab5f8c5-bc1d-4c43-9264-71811fcdb326",
   "metadata": {
    "tags": []
   },
   "source": [
    "## Analysis of h-index"
   ]
  },
  {
   "cell_type": "code",
   "execution_count": 7,
   "id": "682545dd",
   "metadata": {
    "ExecuteTime": {
     "end_time": "2022-07-02T20:51:17.163777Z",
     "start_time": "2022-07-02T20:51:17.050961Z"
    },
    "execution": {
     "iopub.execute_input": "2022-07-08T20:36:45.409766Z",
     "iopub.status.busy": "2022-07-08T20:36:45.409766Z",
     "iopub.status.idle": "2022-07-08T20:36:45.438689Z",
     "shell.execute_reply": "2022-07-08T20:36:45.438689Z",
     "shell.execute_reply.started": "2022-07-08T20:36:45.409766Z"
    },
    "scrolled": true,
    "tags": []
   },
   "outputs": [
    {
     "data": {
      "text/html": [
       "<div>\n",
       "<style scoped>\n",
       "    .dataframe tbody tr th:only-of-type {\n",
       "        vertical-align: middle;\n",
       "    }\n",
       "\n",
       "    .dataframe tbody tr th {\n",
       "        vertical-align: top;\n",
       "    }\n",
       "\n",
       "    .dataframe thead th {\n",
       "        text-align: right;\n",
       "    }\n",
       "</style>\n",
       "<table border=\"1\" class=\"dataframe\">\n",
       "  <thead>\n",
       "    <tr style=\"text-align: right;\">\n",
       "      <th></th>\n",
       "      <th>scopus-id</th>\n",
       "      <th>first name</th>\n",
       "      <th>last name</th>\n",
       "      <th>full name</th>\n",
       "      <th>documents</th>\n",
       "      <th>citations</th>\n",
       "      <th>h-index</th>\n",
       "      <th>contribution</th>\n",
       "      <th>conference</th>\n",
       "    </tr>\n",
       "  </thead>\n",
       "  <tbody>\n",
       "    <tr>\n",
       "      <th>3</th>\n",
       "      <td>57035495100</td>\n",
       "      <td>Baohui</td>\n",
       "      <td>Zhang</td>\n",
       "      <td>Baohui Zhang</td>\n",
       "      <td>32</td>\n",
       "      <td>868</td>\n",
       "      <td>11</td>\n",
       "      <td>invited</td>\n",
       "      <td>ISET2018</td>\n",
       "    </tr>\n",
       "    <tr>\n",
       "      <th>37</th>\n",
       "      <td>15058383900</td>\n",
       "      <td>Chat</td>\n",
       "      <td>Teeka</td>\n",
       "      <td>Chat Teeka</td>\n",
       "      <td>45</td>\n",
       "      <td>246</td>\n",
       "      <td>11</td>\n",
       "      <td>other</td>\n",
       "      <td>ISET2018</td>\n",
       "    </tr>\n",
       "    <tr>\n",
       "      <th>0</th>\n",
       "      <td>56701466200</td>\n",
       "      <td>P. John</td>\n",
       "      <td>Williams</td>\n",
       "      <td>P. John Williams</td>\n",
       "      <td>42</td>\n",
       "      <td>234</td>\n",
       "      <td>10</td>\n",
       "      <td>invited</td>\n",
       "      <td>ISET2018</td>\n",
       "    </tr>\n",
       "    <tr>\n",
       "      <th>42</th>\n",
       "      <td>57133003100</td>\n",
       "      <td>Herawati</td>\n",
       "      <td>Susilo</td>\n",
       "      <td>Herawati Susilo</td>\n",
       "      <td>60</td>\n",
       "      <td>319</td>\n",
       "      <td>10</td>\n",
       "      <td>other</td>\n",
       "      <td>ISET2018</td>\n",
       "    </tr>\n",
       "    <tr>\n",
       "      <th>1</th>\n",
       "      <td>57218701523</td>\n",
       "      <td>Chokchai</td>\n",
       "      <td>Yuenyong</td>\n",
       "      <td>Chokchai Yuenyong</td>\n",
       "      <td>129</td>\n",
       "      <td>228</td>\n",
       "      <td>10</td>\n",
       "      <td>invited</td>\n",
       "      <td>ISET2018</td>\n",
       "    </tr>\n",
       "    <tr>\n",
       "      <th>...</th>\n",
       "      <td>...</td>\n",
       "      <td>...</td>\n",
       "      <td>...</td>\n",
       "      <td>...</td>\n",
       "      <td>...</td>\n",
       "      <td>...</td>\n",
       "      <td>...</td>\n",
       "      <td>...</td>\n",
       "      <td>...</td>\n",
       "    </tr>\n",
       "    <tr>\n",
       "      <th>24</th>\n",
       "      <td>57207841307</td>\n",
       "      <td>Siriwalee</td>\n",
       "      <td>Maniam</td>\n",
       "      <td>Siriwalee Maniam</td>\n",
       "      <td>1</td>\n",
       "      <td>0</td>\n",
       "      <td>0</td>\n",
       "      <td>other</td>\n",
       "      <td>ISET2018</td>\n",
       "    </tr>\n",
       "    <tr>\n",
       "      <th>12</th>\n",
       "      <td>57207845579</td>\n",
       "      <td>Chatuporn</td>\n",
       "      <td>Sawatruksa</td>\n",
       "      <td>Chatuporn Sawatruksa</td>\n",
       "      <td>1</td>\n",
       "      <td>0</td>\n",
       "      <td>0</td>\n",
       "      <td>other</td>\n",
       "      <td>ISET2018</td>\n",
       "    </tr>\n",
       "    <tr>\n",
       "      <th>47</th>\n",
       "      <td>57207841138</td>\n",
       "      <td>Cherdchai</td>\n",
       "      <td>Polkul</td>\n",
       "      <td>Cherdchai Polkul</td>\n",
       "      <td>1</td>\n",
       "      <td>0</td>\n",
       "      <td>0</td>\n",
       "      <td>other</td>\n",
       "      <td>ISET2018</td>\n",
       "    </tr>\n",
       "    <tr>\n",
       "      <th>46</th>\n",
       "      <td>57207847238</td>\n",
       "      <td>Kantinan</td>\n",
       "      <td>Amgtesak</td>\n",
       "      <td>Kantinan Amgtesak</td>\n",
       "      <td>1</td>\n",
       "      <td>0</td>\n",
       "      <td>0</td>\n",
       "      <td>other</td>\n",
       "      <td>ISET2018</td>\n",
       "    </tr>\n",
       "    <tr>\n",
       "      <th>23</th>\n",
       "      <td>57207843575</td>\n",
       "      <td>Rungtiwa</td>\n",
       "      <td>Radckakid</td>\n",
       "      <td>Rungtiwa Radckakid</td>\n",
       "      <td>1</td>\n",
       "      <td>0</td>\n",
       "      <td>0</td>\n",
       "      <td>other</td>\n",
       "      <td>ISET2018</td>\n",
       "    </tr>\n",
       "  </tbody>\n",
       "</table>\n",
       "<p>76 rows × 9 columns</p>\n",
       "</div>"
      ],
      "text/plain": [
       "      scopus-id first name   last name             full name  documents  \\\n",
       "3   57035495100     Baohui       Zhang          Baohui Zhang         32   \n",
       "37  15058383900       Chat       Teeka            Chat Teeka         45   \n",
       "0   56701466200    P. John    Williams      P. John Williams         42   \n",
       "42  57133003100   Herawati      Susilo       Herawati Susilo         60   \n",
       "1   57218701523   Chokchai    Yuenyong     Chokchai Yuenyong        129   \n",
       "..          ...        ...         ...                   ...        ...   \n",
       "24  57207841307  Siriwalee      Maniam      Siriwalee Maniam          1   \n",
       "12  57207845579  Chatuporn  Sawatruksa  Chatuporn Sawatruksa          1   \n",
       "47  57207841138  Cherdchai      Polkul      Cherdchai Polkul          1   \n",
       "46  57207847238   Kantinan    Amgtesak     Kantinan Amgtesak          1   \n",
       "23  57207843575   Rungtiwa   Radckakid    Rungtiwa Radckakid          1   \n",
       "\n",
       "    citations  h-index contribution conference  \n",
       "3         868       11      invited   ISET2018  \n",
       "37        246       11        other   ISET2018  \n",
       "0         234       10      invited   ISET2018  \n",
       "42        319       10        other   ISET2018  \n",
       "1         228       10      invited   ISET2018  \n",
       "..        ...      ...          ...        ...  \n",
       "24          0        0        other   ISET2018  \n",
       "12          0        0        other   ISET2018  \n",
       "47          0        0        other   ISET2018  \n",
       "46          0        0        other   ISET2018  \n",
       "23          0        0        other   ISET2018  \n",
       "\n",
       "[76 rows x 9 columns]"
      ]
     },
     "execution_count": 7,
     "metadata": {},
     "output_type": "execute_result"
    }
   ],
   "source": [
    "ds.sort_values('h-index', ascending=False)"
   ]
  },
  {
   "cell_type": "markdown",
   "id": "9a073db4",
   "metadata": {},
   "source": [
    "**numerical**"
   ]
  },
  {
   "cell_type": "code",
   "execution_count": 8,
   "id": "05284dac",
   "metadata": {
    "ExecuteTime": {
     "end_time": "2022-07-02T20:51:17.376851Z",
     "start_time": "2022-07-02T20:51:17.170668Z"
    },
    "execution": {
     "iopub.execute_input": "2022-07-08T20:36:45.440683Z",
     "iopub.status.busy": "2022-07-08T20:36:45.439686Z",
     "iopub.status.idle": "2022-07-08T20:36:45.486585Z",
     "shell.execute_reply": "2022-07-08T20:36:45.486585Z",
     "shell.execute_reply.started": "2022-07-08T20:36:45.440683Z"
    },
    "tags": []
   },
   "outputs": [
    {
     "name": "stdout",
     "output_type": "stream",
     "text": [
      "\n"
     ]
    },
    {
     "data": {
      "text/markdown": [
       "**<font color=brown size=4>Numerical summary ISET2018: Scopus $h$-index of participants**"
      ],
      "text/plain": [
       "<IPython.core.display.Markdown object>"
      ]
     },
     "metadata": {},
     "output_type": "display_data"
    },
    {
     "data": {
      "text/html": [
       "<div>\n",
       "<style scoped>\n",
       "    .dataframe tbody tr th:only-of-type {\n",
       "        vertical-align: middle;\n",
       "    }\n",
       "\n",
       "    .dataframe tbody tr th {\n",
       "        vertical-align: top;\n",
       "    }\n",
       "\n",
       "    .dataframe thead tr th {\n",
       "        text-align: left;\n",
       "    }\n",
       "</style>\n",
       "<table border=\"1\" class=\"dataframe\">\n",
       "  <thead>\n",
       "    <tr>\n",
       "      <th>contribution</th>\n",
       "      <th colspan=\"3\" halign=\"left\">invited</th>\n",
       "      <th colspan=\"10\" halign=\"left\">other</th>\n",
       "    </tr>\n",
       "    <tr>\n",
       "      <th>h-index</th>\n",
       "      <th>1</th>\n",
       "      <th>10</th>\n",
       "      <th>11</th>\n",
       "      <th>0</th>\n",
       "      <th>1</th>\n",
       "      <th>2</th>\n",
       "      <th>3</th>\n",
       "      <th>4</th>\n",
       "      <th>6</th>\n",
       "      <th>7</th>\n",
       "      <th>9</th>\n",
       "      <th>10</th>\n",
       "      <th>11</th>\n",
       "    </tr>\n",
       "  </thead>\n",
       "  <tbody>\n",
       "    <tr>\n",
       "      <th>count</th>\n",
       "      <td>2</td>\n",
       "      <td>2</td>\n",
       "      <td>1</td>\n",
       "      <td>22</td>\n",
       "      <td>27</td>\n",
       "      <td>10</td>\n",
       "      <td>5</td>\n",
       "      <td>1</td>\n",
       "      <td>2</td>\n",
       "      <td>1</td>\n",
       "      <td>1</td>\n",
       "      <td>1</td>\n",
       "      <td>1</td>\n",
       "    </tr>\n",
       "  </tbody>\n",
       "</table>\n",
       "</div>"
      ],
      "text/plain": [
       "contribution invited       other                             \n",
       "h-index           1  10 11    0   1   2  3  4  6  7  9  10 11\n",
       "count              2  2  1    22  27  10  5  1  2  1  1  1  1"
      ]
     },
     "metadata": {},
     "output_type": "display_data"
    },
    {
     "data": {
      "text/html": [
       "<div>\n",
       "<style scoped>\n",
       "    .dataframe tbody tr th:only-of-type {\n",
       "        vertical-align: middle;\n",
       "    }\n",
       "\n",
       "    .dataframe tbody tr th {\n",
       "        vertical-align: top;\n",
       "    }\n",
       "\n",
       "    .dataframe thead tr th {\n",
       "        text-align: left;\n",
       "    }\n",
       "\n",
       "    .dataframe thead tr:last-of-type th {\n",
       "        text-align: right;\n",
       "    }\n",
       "</style>\n",
       "<table border=\"1\" class=\"dataframe\">\n",
       "  <thead>\n",
       "    <tr>\n",
       "      <th></th>\n",
       "      <th colspan=\"7\" halign=\"left\">Conference ISET2018 $h$-index measures</th>\n",
       "    </tr>\n",
       "    <tr>\n",
       "      <th></th>\n",
       "      <th>mean</th>\n",
       "      <th>std</th>\n",
       "      <th>minimum</th>\n",
       "      <th>25%</th>\n",
       "      <th>50%</th>\n",
       "      <th>75%</th>\n",
       "      <th>maximum</th>\n",
       "    </tr>\n",
       "    <tr>\n",
       "      <th>participants</th>\n",
       "      <th></th>\n",
       "      <th></th>\n",
       "      <th></th>\n",
       "      <th></th>\n",
       "      <th></th>\n",
       "      <th></th>\n",
       "      <th></th>\n",
       "    </tr>\n",
       "  </thead>\n",
       "  <tbody>\n",
       "    <tr>\n",
       "      <th>invited</th>\n",
       "      <td>6.60</td>\n",
       "      <td>5.13</td>\n",
       "      <td>1</td>\n",
       "      <td>1</td>\n",
       "      <td>10</td>\n",
       "      <td>10</td>\n",
       "      <td>11</td>\n",
       "    </tr>\n",
       "    <tr>\n",
       "      <th>other</th>\n",
       "      <td>1.62</td>\n",
       "      <td>2.28</td>\n",
       "      <td>0</td>\n",
       "      <td>0</td>\n",
       "      <td>1</td>\n",
       "      <td>2</td>\n",
       "      <td>11</td>\n",
       "    </tr>\n",
       "    <tr>\n",
       "      <th>all</th>\n",
       "      <td>1.00</td>\n",
       "      <td>2.00</td>\n",
       "      <td>0</td>\n",
       "      <td>0</td>\n",
       "      <td>1</td>\n",
       "      <td>2</td>\n",
       "      <td>11</td>\n",
       "    </tr>\n",
       "  </tbody>\n",
       "</table>\n",
       "</div>"
      ],
      "text/plain": [
       "             Conference ISET2018 $h$-index measures                            \\\n",
       "                                               mean   std minimum 25% 50% 75%   \n",
       "participants                                                                    \n",
       "invited                                        6.60  5.13       1   1  10  10   \n",
       "other                                          1.62  2.28       0   0   1   2   \n",
       "all                                            1.00  2.00       0   0   1   2   \n",
       "\n",
       "                      \n",
       "             maximum  \n",
       "participants          \n",
       "invited           11  \n",
       "other             11  \n",
       "all               11  "
      ]
     },
     "metadata": {},
     "output_type": "display_data"
    }
   ],
   "source": [
    "# quartiles and IQR\n",
    "q25 = lambda x: x.quantile(0.25) # lower quartile\n",
    "q50 = lambda x: x.quantile(0.50) # upper quartile\n",
    "q75 = lambda x: x.quantile(0.75) # upper quartile\n",
    "IQR = lambda x: x.quantile(0.75)-x.quantile(0.25) # interquartile range\n",
    "\n",
    "# counts h-index of contributions - invited vs. others\n",
    "dhc = (ds.groupby(['contribution', 'h-index'])\n",
    "      .agg(count = ('scopus-id','count')).rename(columns={'contribution':'participant'})).T\n",
    "\n",
    "# h-index of contributions - invited vs. others\n",
    "dhs = (ds.groupby(['contribution'])\n",
    ".agg({'h-index':['mean', 'std', 'min', q25, q50, q75, 'max']})\n",
    ".round(2).sort_values(by=('h-index','mean'), ascending=False).rename_axis('contribution')\n",
    ")\n",
    "\n",
    "dhall = (ds.agg({'h-index':['mean', 'std', 'min', q25, q50, q75, 'max']})\n",
    "          .astype(int)\n",
    "          .rename(columns={'h-index':'all'})\n",
    "          .rename_axis('contribution').T)\n",
    "\n",
    "\n",
    "# measures\n",
    "measures = ['mean', 'std', 'minimum', '25%', '50%', '75%', 'maximum']\n",
    "level = f'Conference {conference.upper()} $h$-index measures'\n",
    "dhs.columns = pd.MultiIndex.from_tuples([(level, stat) for stat in measures])\n",
    "dhall.columns = pd.MultiIndex.from_tuples([(level, stat) for stat in measures])\n",
    "\n",
    "dh = pd.concat([dhs, dhall]).rename_axis('participants')\n",
    "# display numerical summary\n",
    "print()\n",
    "display(Markdown(f'**<font color=brown size=4>Numerical summary {conference.upper()}: Scopus $h$-index of participants**'))\n",
    "display(dhc)\n",
    "display(dh)"
   ]
  },
  {
   "cell_type": "markdown",
   "id": "75607f72",
   "metadata": {},
   "source": [
    "**graphical**"
   ]
  },
  {
   "cell_type": "code",
   "execution_count": 9,
   "id": "d6347da5",
   "metadata": {
    "ExecuteTime": {
     "end_time": "2022-07-02T20:51:18.218865Z",
     "start_time": "2022-07-02T20:51:18.208898Z"
    },
    "execution": {
     "iopub.execute_input": "2022-07-08T20:36:45.487557Z",
     "iopub.status.busy": "2022-07-08T20:36:45.487557Z",
     "iopub.status.idle": "2022-07-08T20:36:45.502543Z",
     "shell.execute_reply": "2022-07-08T20:36:45.502543Z",
     "shell.execute_reply.started": "2022-07-08T20:36:45.487557Z"
    },
    "tags": []
   },
   "outputs": [],
   "source": [
    "# ymax = dh[(level,'median')].max() + 2*dh[(level,'IQ range')].max()\n",
    "# ymin = dh[(level,'minimum')].min()\n",
    "ymin , ymax = 0, 12"
   ]
  },
  {
   "cell_type": "code",
   "execution_count": 10,
   "id": "370f1b5f",
   "metadata": {
    "ExecuteTime": {
     "end_time": "2022-07-02T21:09:37.220492Z",
     "start_time": "2022-07-02T21:09:36.695900Z"
    },
    "execution": {
     "iopub.execute_input": "2022-07-08T20:36:45.503541Z",
     "iopub.status.busy": "2022-07-08T20:36:45.503541Z",
     "iopub.status.idle": "2022-07-08T20:36:45.818705Z",
     "shell.execute_reply": "2022-07-08T20:36:45.818705Z",
     "shell.execute_reply.started": "2022-07-08T20:36:45.503541Z"
    },
    "tags": []
   },
   "outputs": [
    {
     "name": "stdout",
     "output_type": "stream",
     "text": [
      "\n"
     ]
    },
    {
     "data": {
      "text/markdown": [
       "**<font color=brown size=4>Graphical summary ISET2018: Scopus $h$-index of participants**"
      ],
      "text/plain": [
       "<IPython.core.display.Markdown object>"
      ]
     },
     "metadata": {},
     "output_type": "display_data"
    },
    {
     "data": {
      "image/png": "[encoded data removed]",
      "text/plain": [
       "<Figure size 576x360 with 1 Axes>"
      ]
     },
     "metadata": {
      "needs_background": "light"
     },
     "output_type": "display_data"
    }
   ],
   "source": [
    "# visualization\n",
    "print()\n",
    "display(Markdown(f'**<font color=brown size=4>Graphical summary {conference.upper()}: Scopus $h$-index of participants**'))\n",
    "\n",
    "# plots\n",
    "fig, axes = plt.subplots(figsize=(8,5))\n",
    "contributions = ['invited', 'other']\n",
    "\n",
    "ax = sns.boxplot(x='contribution', y='h-index',  data = ds, ax=axes,  order = contributions, medianprops=dict(color=\"red\", linewidth=1.5), showfliers = False, \n",
    "                showmeans=True, meanprops={\"marker\": \"D\", \"markerfacecolor\":\"white\", \n",
    "                       \"markeredgecolor\":\"black\", \"markersize\": \"10\"})    \n",
    "\n",
    "# more transparent colors for boxplots\n",
    "for patch in ax.artists:\n",
    "    r, g, b, a = patch.get_facecolor()\n",
    "    patch.set_facecolor((r, g, b, .3))\n",
    "\n",
    "ax = sns.swarmplot(x='contribution', y='h-index', data = ds,  size = 5, alpha  = 1,  order = contributions)\n",
    "\n",
    "# fonts and labels\n",
    "plt.ylim(-1+ymin,1+ymax)\n",
    "plt.xlabel(''); plt.ylabel('Scopus $h$-index', fontsize=14)\n",
    "plt.xticks(fontsize=14); plt.yticks(fontsize=14)\n",
    "plt.show();"
   ]
  },
  {
   "cell_type": "code",
   "execution_count": 11,
   "id": "55dd6880",
   "metadata": {
    "ExecuteTime": {
     "end_time": "2022-07-02T21:10:35.258847Z",
     "start_time": "2022-07-02T21:10:34.870049Z"
    },
    "execution": {
     "iopub.execute_input": "2022-07-08T20:36:45.819670Z",
     "iopub.status.busy": "2022-07-08T20:36:45.819670Z",
     "iopub.status.idle": "2022-07-08T20:36:45.962309Z",
     "shell.execute_reply": "2022-07-08T20:36:45.961324Z",
     "shell.execute_reply.started": "2022-07-08T20:36:45.819670Z"
    },
    "tags": []
   },
   "outputs": [
    {
     "data": {
      "image/png": "[encoded data removed]",
      "text/plain": [
       "<Figure size 288x360 with 1 Axes>"
      ]
     },
     "metadata": {
      "needs_background": "light"
     },
     "output_type": "display_data"
    }
   ],
   "source": [
    "# visualization of all participants\n",
    "fig, axes = plt.subplots(figsize=(4,5))\n",
    "\n",
    "ax = sns.boxplot(y='h-index',data = ds, ax=axes, medianprops=dict(color=\"red\", linewidth=1.5), showfliers = False, \n",
    "                showmeans=True, meanprops={\"marker\": \"D\", \"markerfacecolor\":\"white\", \n",
    "                       \"markeredgecolor\":\"black\", \"markersize\": \"10\"})    \n",
    "\n",
    "# more transparent collors for boxplots\n",
    "for patch in ax.artists:\n",
    "    r, g, b, a = patch.get_facecolor()\n",
    "    patch.set_facecolor((r, g, b, .3))\n",
    "\n",
    "ax = sns.swarmplot(y='h-index', data = ds,size = 5, alpha  = 1)\n",
    "\n",
    "# fonts and labels\n",
    "plt.ylim(-1+ymin,1+ymax)\n",
    "plt.xlabel('all', fontsize=14); plt.ylabel('Scopus $h$-index', fontsize=14)\n",
    "plt.xticks(fontsize=14); plt.yticks(fontsize=14)\n",
    "plt.show();"
   ]
  }
 ],
 "metadata": {
  "hide_input": false,
  "kernelspec": {
   "display_name": "Python 3 (ipykernel)",
   "language": "python",
   "name": "python3"
  },
  "language_info": {
   "codemirror_mode": {
    "name": "ipython",
    "version": 3
   },
   "file_extension": ".py",
   "mimetype": "text/x-python",
   "name": "python",
   "nbconvert_exporter": "python",
   "pygments_lexer": "ipython3",
   "version": "3.8.8"
  },
  "toc": {
   "base_numbering": 1,
   "nav_menu": {},
   "number_sections": true,
   "sideBar": true,
   "skip_h1_title": false,
   "title_cell": "Table of Contents",
   "title_sidebar": "Contents",
   "toc_cell": false,
   "toc_position": {
    "height": "calc(100% - 180px)",
    "left": "10px",
    "top": "150px",
    "width": "239.261px"
   },
   "toc_section_display": true,
   "toc_window_display": false
  },
  "varInspector": {
   "cols": {
    "lenName": 16,
    "lenType": 16,
    "lenVar": 40
   },
   "kernels_config": {
    "python": {
     "delete_cmd_postfix": "",
     "delete_cmd_prefix": "del ",
     "library": "var_list.py",
     "varRefreshCmd": "print(var_dic_list())"
    },
    "r": {
     "delete_cmd_postfix": ") ",
     "delete_cmd_prefix": "rm(",
     "library": "var_list.r",
     "varRefreshCmd": "cat(var_dic_list()) "
    }
   },
   "types_to_exclude": [
    "module",
    "function",
    "builtin_function_or_method",
    "instance",
    "_Feature"
   ],
   "window_display": false
  },
  "widgets": {
   "application/vnd.jupyter.widget-state+json": {
    "state": {},
    "version_major": 2,
    "version_minor": 0
   }
  }
 },
 "nbformat": 4,
 "nbformat_minor": 5
}
